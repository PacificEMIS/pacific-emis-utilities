{
 "cells": [
  {
   "cell_type": "code",
   "execution_count": null,
   "id": "2de2d4e5-40d3-4033-8dba-2bed4a3b6a33",
   "metadata": {},
   "outputs": [],
   "source": [
    "import json\n",
    "\n",
    "def load_config(config_path=\"config.json\"):\n",
    "    \"\"\"Load configuration from a JSON file.\"\"\"\n",
    "    with open(config_path, 'r') as file:\n",
    "        config = json.load(file)\n",
    "    return config['base_url'], config['username'], config['password'], config['output_directory']\n",
    "\n",
    "# Test loading configuration\n",
    "base_url, username, password, output_dir = load_config()\n",
    "print(\"Configuration loaded successfully.\")"
   ]
  },
  {
   "cell_type": "code",
   "execution_count": null,
   "id": "601a628a-363f-4a7b-808a-386149ba90fc",
   "metadata": {},
   "outputs": [],
   "source": [
    "import requests\n",
    "import urllib3\n",
    "\n",
    "# Disable warnings for self-signed certificates\n",
    "urllib3.disable_warnings(urllib3.exceptions.InsecureRequestWarning)\n",
    "\n",
    "def authenticate(base_url, username, password):\n",
    "    \"\"\"Authenticate and return a bearer token.\"\"\"\n",
    "    auth_url = f\"{base_url}/api/token\"\n",
    "    headers = {\n",
    "        \"Accept\": \"application/json, text/plain, */*\",\n",
    "        \"Content-Type\": \"application/x-www-form-urlencoded\"\n",
    "    }\n",
    "    payload = {\n",
    "        \"grant_type\": \"password\",\n",
    "        \"username\": username,\n",
    "        \"password\": password\n",
    "    }\n",
    "    response = requests.post(auth_url, headers=headers, data=payload, verify=False)\n",
    "    response.raise_for_status()\n",
    "    token = response.json().get(\"access_token\")  # Adjust if necessary\n",
    "    return token\n",
    "\n",
    "# Test authentication\n",
    "token = authenticate(base_url, username, password)\n",
    "print(\"Authentication successful. Token obtained.\")\n"
   ]
  },
  {
   "cell_type": "code",
   "execution_count": null,
   "id": "c900ff63-3b67-4210-9cc1-5a324d9c2ea8",
   "metadata": {},
   "outputs": [],
   "source": [
    "def get_teachers_list(base_url, token, pageSize=50):\n",
    "    \"\"\"Fetch the complete list of teachers with pagination handling.\"\"\"\n",
    "    teacher_url = f\"{base_url}/api/teachers?PageSize={pageSize}\"\n",
    "    headers = {\"Authorization\": f\"Bearer {token}\"}\n",
    "    pageNo = 1\n",
    "    all_teachers = []\n",
    "    \n",
    "    while True:\n",
    "        # Add the current page number to the URL\n",
    "        paginated_url = f\"{teacher_url}&PageNo={pageNo}\"\n",
    "        response = requests.get(paginated_url, headers=headers, verify=False)\n",
    "        response.raise_for_status()\n",
    "        \n",
    "        data = response.json()\n",
    "        result_set = data.get(\"ResultSet\", [])\n",
    "        all_teachers.extend(result_set)\n",
    "        \n",
    "        # Pagination information\n",
    "        pagination_info = {\n",
    "            \"HasPageInfo\": data.get(\"HasPageInfo\", False),\n",
    "            \"NumResults\": data.get(\"NumResults\", 0),\n",
    "            \"FirstRec\": data.get(\"FirstRec\", 1),\n",
    "            \"LastRec\": data.get(\"LastRec\", pageSize),\n",
    "            \"PageSize\": data.get(\"PageSize\", pageSize),\n",
    "            \"PageNo\": data.get(\"PageNo\", pageNo),\n",
    "            \"IsLastPage\": data.get(\"IsLastPage\", True),\n",
    "            \"LastPage\": data.get(\"LastPage\", 1),\n",
    "            \"Tag\": data.get(\"Tag\", None)\n",
    "        }\n",
    "        \n",
    "        # Check if this is the last page\n",
    "        if pagination_info[\"IsLastPage\"]:\n",
    "            break\n",
    "        \n",
    "        # Move to the next page\n",
    "        pageNo += 1\n",
    "\n",
    "    return all_teachers, pagination_info\n",
    "\n",
    "# Test fetching the complete teachers list with pagination\n",
    "all_teachers, pagination_info = get_teachers_list(base_url, token, pageSize=50)\n",
    "print(f\"Total teachers retrieved: {len(all_teachers)}\")\n",
    "print(\"Pagination Info:\", pagination_info)\n"
   ]
  },
  {
   "cell_type": "code",
   "execution_count": null,
   "id": "2a39559d-c8b4-49d3-bb64-e1866b4db59c",
   "metadata": {},
   "outputs": [],
   "source": [
    "import os\n",
    "import pickle\n",
    "\n",
    "# Ensure the folder exists\n",
    "cache_dir = \"cached-data\"\n",
    "os.makedirs(cache_dir, exist_ok=True)\n",
    "\n",
    "# Save the variable\n",
    "with open(os.path.join(cache_dir, \"all_teachers.pkl\"), \"wb\") as f:\n",
    "    pickle.dump(all_teachers, f)\n",
    "\n",
    "print(\"✅ all_teachers saved to cached-data/all_teachers.pkl\")\n"
   ]
  },
  {
   "cell_type": "code",
   "execution_count": null,
   "id": "821e0427-fedb-46af-80f5-0026a055cb9d",
   "metadata": {},
   "outputs": [],
   "source": [
    "all_teachers[1]"
   ]
  },
  {
   "cell_type": "code",
   "execution_count": null,
   "id": "80ce1059-9c50-4299-9175-8e9df9f0d3ca",
   "metadata": {},
   "outputs": [],
   "source": []
  }
 ],
 "metadata": {
  "jupytext": {
   "formats": "ipynb,auto:percent"
  },
  "kernelspec": {
   "display_name": "Python 3 (ipykernel)",
   "language": "python",
   "name": "python3"
  },
  "language_info": {
   "codemirror_mode": {
    "name": "ipython",
    "version": 3
   },
   "file_extension": ".py",
   "mimetype": "text/x-python",
   "name": "python",
   "nbconvert_exporter": "python",
   "pygments_lexer": "ipython3",
   "version": "3.12.4"
  }
 },
 "nbformat": 4,
 "nbformat_minor": 5
}
